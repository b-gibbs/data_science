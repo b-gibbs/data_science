{
 "cells": [
  {
   "cell_type": "markdown",
   "metadata": {},
   "source": [
    "# Top 3 Project Ideas\n",
    "***"
   ]
  },
  {
   "cell_type": "markdown",
   "metadata": {},
   "source": [
    "## 1. VC Funding for Startups in the US v China\n",
    "\n",
    "Client: A hypothetical VC firm that has heard there are good investment opportunities in China wants an analysis of the Chinese environment relative to the US.  More specifically, they want to know whether they are more likely to make higher returns in China or in the US at this moment, or at some point in the future (by analyzing trends in both markets).\n",
    "    \n",
    "Features to examine:\n",
    "- size and frequency of funding rounds\n",
    "- average burn rates\n",
    "- sophistication of funding arrangements\n",
    "- pool of funding partners\n",
    "- description of successful exits\n",
    "    - what percentage of companies that receive an initial round eventually get bought or go public\n",
    "    - what is the size of the average exit\n",
    "- description of the investment opportunities\n",
    "    - education level of the workforce\n",
    "    - most common industries\n",
    "    - most funded industries\n",
    "    - industries that are trending up\n",
    "    - time from founding to initial funding\n",
    "    - time from initial funding to exit\n",
    "    - avg total funding for successful exits\n",
    "    \n",
    "    "
   ]
  },
  {
   "cell_type": "markdown",
   "metadata": {},
   "source": [
    "## 2. Foreign Investment in China\n",
    "Client: A hypothetical consulting firm that wants to be prepared to help its clients enter the Chinese market.\n",
    "\n",
    "Features to examine:\n",
    "- USD of foreign investment\n",
    "- strength of rule of law / contract enforcement\n",
    "- education level of the workforce\n",
    "- infrastructure\n",
    "- top industries"
   ]
  },
  {
   "cell_type": "markdown",
   "metadata": {},
   "source": [
    "## 3. Effects High-Frequency Trading Has on the US Markets\n",
    "\n",
    "Client: A US regulatory agency that is considering new regulations.\n",
    "\n",
    "Features to examine:\n",
    "This one might be tricky.  I'm interested in looking at the effects high-frequency trading has on market movements.  Many of these algorithms have a component that looks at the 'physics' of price changes -- the direction and the momentum of the movement.  This has the effect of piling on or emphasizing gains and losses beyond what a rational individual would indicate looking at the actual health of the markets, companies and industries."
   ]
  },
  {
   "cell_type": "markdown",
   "metadata": {},
   "source": [
    "# Brainstorming Data Science Project Ideas\n",
    "***\n"
   ]
  },
  {
   "cell_type": "markdown",
   "metadata": {},
   "source": [
    "<div class=\"alert alert-block alert-info\">\n",
    "In this section, I'm 'showing my work'.  You asked me to think about problems that I'm passionate about and industries I'd like to work in.  With that in mind, I came up with the following ideas.  I presented my three favorites above.\n",
    "</div>"
   ]
  },
  {
   "cell_type": "markdown",
   "metadata": {},
   "source": [
    "## Psychology & Sociology of Sales / Marketing\n",
    "    - real estate\n",
    "        - effect of weather/climate on housing sales in the Tri-State area\n",
    "    - grocery stores / Target\n",
    "        - using ML to adjust prices in real time\n",
    "        - using ML to target optimal stock and reordering\n",
    "        - Target knows people are more likely to change shopping habits when they're expecting and targets parents-to-be\n"
   ]
  },
  {
   "cell_type": "markdown",
   "metadata": {},
   "source": [
    "## Psychology & Sociology of the Stock Markets / Trading\n",
    "    - quants and how they pile on and affect market momentum\n",
    "    - market bounce from announcement of TV show guests\n",
    "    - buy on the rumor, sell on the action\n",
    "    - perception of Trump's deregulations and effects on the market\n",
    "    - review of the subprime housing crisis \n",
    "        - how loan terms and financing rates precipitated the crisis"
   ]
  },
  {
   "cell_type": "markdown",
   "metadata": {},
   "source": [
    "## Global Economic Development\n",
    "    - how the growth of trade between countries affects politics\n",
    "    - Chinese investment in US equity & debt vs. investments in their own equity & debt\n",
    "    - number of Chinese companies listed on US exchanges or both US and Chinese markets\n",
    "        - how has this changed since the early 90s\n",
    "    - evolution of foreign investment in China since the 90s\n",
    "        - types of investments v. dollars invested v. worker rights and happiness v. ease of doing business v. legal protections\n",
    "        \n"
   ]
  },
  {
   "cell_type": "markdown",
   "metadata": {},
   "source": [
    "## IoT\n",
    "    - sensor data to adjust environments in offices and homes - microclimates\n",
    "        - increased productivity\n",
    "        - employee happiness\n",
    "        - energy efficiency"
   ]
  }
 ],
 "metadata": {
  "kernelspec": {
   "display_name": "Python 3",
   "language": "python",
   "name": "python3"
  },
  "language_info": {
   "codemirror_mode": {
    "name": "ipython",
    "version": 3
   },
   "file_extension": ".py",
   "mimetype": "text/x-python",
   "name": "python",
   "nbconvert_exporter": "python",
   "pygments_lexer": "ipython3",
   "version": "3.6.3"
  }
 },
 "nbformat": 4,
 "nbformat_minor": 2
}
