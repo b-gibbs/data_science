{
 "cells": [
  {
   "cell_type": "markdown",
   "metadata": {},
   "source": [
    "# Examining Racial Discrimination in the US Job Market\n",
    "\n",
    "### Background\n",
    "Racial discrimination continues to be pervasive in cultures throughout the world. Researchers examined the level of racial discrimination in the United States labor market by randomly assigning identical résumés to black-sounding or white-sounding names and observing the impact on requests for interviews from employers.\n",
    "\n",
    "### Data\n",
    "In the dataset provided, each row represents a resume. The 'race' column has two values, 'b' and 'w', indicating black-sounding and white-sounding. The column 'call' has two values, 1 and 0, indicating whether the resume received a call from employers or not.\n",
    "\n",
    "Note that the 'b' and 'w' values in race are assigned randomly to the resumes when presented to the employer."
   ]
  },
  {
   "cell_type": "markdown",
   "metadata": {},
   "source": [
    "\n",
    "### Exercises\n",
    "You will perform a statistical analysis to establish whether race has a significant impact on the rate of callbacks for resumes.\n",
    "\n",
    "Answer the following questions **in this notebook below and submit to your Github account**. \n",
    "\n",
    "   1. What test is appropriate for this problem? Does CLT apply?\n",
    "   2. What are the null and alternate hypotheses?\n",
    "   3. Compute margin of error, confidence interval, and p-value. Try using both the bootstrapping and the frequentist statistical approaches.\n",
    "   4. Write a story describing the statistical significance in the context or the original problem.\n",
    "   5. Does your analysis mean that race/name is the most important factor in callback success? Why or why not? If not, how would you amend your analysis?\n",
    "\n",
    "You can include written notes in notebook cells using Markdown: \n",
    "   - In the control panel at the top, choose Cell > Cell Type > Markdown\n",
    "   - Markdown syntax: http://nestacms.com/docs/creating-content/markdown-cheat-sheet\n",
    "\n",
    "\n",
    "#### Resources\n",
    "+ Experiment information and data source: http://www.povertyactionlab.org/evaluation/discrimination-job-market-united-states\n",
    "+ Scipy statistical methods: http://docs.scipy.org/doc/scipy/reference/stats.html \n",
    "+ Markdown syntax: http://nestacms.com/docs/creating-content/markdown-cheat-sheet\n",
    "+ Formulas for the Bernoulli distribution: https://en.wikipedia.org/wiki/Bernoulli_distribution\n",
    "\n",
    "****"
   ]
  },
  {
   "cell_type": "markdown",
   "metadata": {},
   "source": [
    "## Summary of Findings\n",
    "***"
   ]
  },
  {
   "cell_type": "code",
   "execution_count": 1,
   "metadata": {
    "collapsed": true
   },
   "outputs": [],
   "source": [
    "# IMPORTS\n",
    "import numpy as np\n",
    "import pandas as pd\n",
    "import matplotlib.pyplot as plt\n",
    "import matplotlib.mlab as mlab\n",
    "import seaborn as sns\n",
    "import scipy.stats as stats\n",
    "import pylab\n",
    "\n",
    "# matplotlib setup\n",
    "%matplotlib inline\n",
    "\n",
    "# turn edges on in plt\n",
    "plt.rcParams[\"patch.force_edgecolor\"] = True\n",
    "\n",
    "np.random.seed(42)"
   ]
  },
  {
   "cell_type": "code",
   "execution_count": 2,
   "metadata": {},
   "outputs": [],
   "source": [
    "# FUNCTIONS USED\n",
    "\n",
    "def ecdf(data):\n",
    "    \"\"\"Compute ECDF for a one-dimensional array of measurements.\"\"\"\n",
    "\n",
    "    # Number of data points: n\n",
    "    n = len(data)\n",
    "\n",
    "    # x: sort the data\n",
    "    x = np.sort(data)\n",
    "\n",
    "    # y: range for y-axis\n",
    "    y = np.arange(1, n+1) / n\n",
    "\n",
    "    return x, y"
   ]
  },
  {
   "cell_type": "code",
   "execution_count": 3,
   "metadata": {
    "collapsed": true
   },
   "outputs": [
    {
     "data": {
      "text/html": [
       "<div>\n",
       "<style scoped>\n",
       "    .dataframe tbody tr th:only-of-type {\n",
       "        vertical-align: middle;\n",
       "    }\n",
       "\n",
       "    .dataframe tbody tr th {\n",
       "        vertical-align: top;\n",
       "    }\n",
       "\n",
       "    .dataframe thead th {\n",
       "        text-align: right;\n",
       "    }\n",
       "</style>\n",
       "<table border=\"1\" class=\"dataframe\">\n",
       "  <thead>\n",
       "    <tr style=\"text-align: right;\">\n",
       "      <th></th>\n",
       "      <th>id</th>\n",
       "      <th>ad</th>\n",
       "      <th>education</th>\n",
       "      <th>ofjobs</th>\n",
       "      <th>yearsexp</th>\n",
       "      <th>honors</th>\n",
       "      <th>volunteer</th>\n",
       "      <th>military</th>\n",
       "      <th>empholes</th>\n",
       "      <th>occupspecific</th>\n",
       "      <th>...</th>\n",
       "      <th>compreq</th>\n",
       "      <th>orgreq</th>\n",
       "      <th>manuf</th>\n",
       "      <th>transcom</th>\n",
       "      <th>bankreal</th>\n",
       "      <th>trade</th>\n",
       "      <th>busservice</th>\n",
       "      <th>othservice</th>\n",
       "      <th>missind</th>\n",
       "      <th>ownership</th>\n",
       "    </tr>\n",
       "  </thead>\n",
       "  <tbody>\n",
       "    <tr>\n",
       "      <th>0</th>\n",
       "      <td>b</td>\n",
       "      <td>1</td>\n",
       "      <td>4</td>\n",
       "      <td>2</td>\n",
       "      <td>6</td>\n",
       "      <td>0</td>\n",
       "      <td>0</td>\n",
       "      <td>0</td>\n",
       "      <td>1</td>\n",
       "      <td>17</td>\n",
       "      <td>...</td>\n",
       "      <td>1.0</td>\n",
       "      <td>0.0</td>\n",
       "      <td>1.0</td>\n",
       "      <td>0.0</td>\n",
       "      <td>0.0</td>\n",
       "      <td>0.0</td>\n",
       "      <td>0.0</td>\n",
       "      <td>0.0</td>\n",
       "      <td>0.0</td>\n",
       "      <td></td>\n",
       "    </tr>\n",
       "    <tr>\n",
       "      <th>1</th>\n",
       "      <td>b</td>\n",
       "      <td>1</td>\n",
       "      <td>3</td>\n",
       "      <td>3</td>\n",
       "      <td>6</td>\n",
       "      <td>0</td>\n",
       "      <td>1</td>\n",
       "      <td>1</td>\n",
       "      <td>0</td>\n",
       "      <td>316</td>\n",
       "      <td>...</td>\n",
       "      <td>1.0</td>\n",
       "      <td>0.0</td>\n",
       "      <td>1.0</td>\n",
       "      <td>0.0</td>\n",
       "      <td>0.0</td>\n",
       "      <td>0.0</td>\n",
       "      <td>0.0</td>\n",
       "      <td>0.0</td>\n",
       "      <td>0.0</td>\n",
       "      <td></td>\n",
       "    </tr>\n",
       "    <tr>\n",
       "      <th>2</th>\n",
       "      <td>b</td>\n",
       "      <td>1</td>\n",
       "      <td>4</td>\n",
       "      <td>1</td>\n",
       "      <td>6</td>\n",
       "      <td>0</td>\n",
       "      <td>0</td>\n",
       "      <td>0</td>\n",
       "      <td>0</td>\n",
       "      <td>19</td>\n",
       "      <td>...</td>\n",
       "      <td>1.0</td>\n",
       "      <td>0.0</td>\n",
       "      <td>1.0</td>\n",
       "      <td>0.0</td>\n",
       "      <td>0.0</td>\n",
       "      <td>0.0</td>\n",
       "      <td>0.0</td>\n",
       "      <td>0.0</td>\n",
       "      <td>0.0</td>\n",
       "      <td></td>\n",
       "    </tr>\n",
       "    <tr>\n",
       "      <th>3</th>\n",
       "      <td>b</td>\n",
       "      <td>1</td>\n",
       "      <td>3</td>\n",
       "      <td>4</td>\n",
       "      <td>6</td>\n",
       "      <td>0</td>\n",
       "      <td>1</td>\n",
       "      <td>0</td>\n",
       "      <td>1</td>\n",
       "      <td>313</td>\n",
       "      <td>...</td>\n",
       "      <td>1.0</td>\n",
       "      <td>0.0</td>\n",
       "      <td>1.0</td>\n",
       "      <td>0.0</td>\n",
       "      <td>0.0</td>\n",
       "      <td>0.0</td>\n",
       "      <td>0.0</td>\n",
       "      <td>0.0</td>\n",
       "      <td>0.0</td>\n",
       "      <td></td>\n",
       "    </tr>\n",
       "    <tr>\n",
       "      <th>4</th>\n",
       "      <td>b</td>\n",
       "      <td>1</td>\n",
       "      <td>3</td>\n",
       "      <td>3</td>\n",
       "      <td>22</td>\n",
       "      <td>0</td>\n",
       "      <td>0</td>\n",
       "      <td>0</td>\n",
       "      <td>0</td>\n",
       "      <td>313</td>\n",
       "      <td>...</td>\n",
       "      <td>1.0</td>\n",
       "      <td>1.0</td>\n",
       "      <td>0.0</td>\n",
       "      <td>0.0</td>\n",
       "      <td>0.0</td>\n",
       "      <td>0.0</td>\n",
       "      <td>0.0</td>\n",
       "      <td>1.0</td>\n",
       "      <td>0.0</td>\n",
       "      <td>Nonprofit</td>\n",
       "    </tr>\n",
       "  </tbody>\n",
       "</table>\n",
       "<p>5 rows × 65 columns</p>\n",
       "</div>"
      ],
      "text/plain": [
       "  id ad  education  ofjobs  yearsexp  honors  volunteer  military  empholes  \\\n",
       "0  b  1          4       2         6       0          0         0         1   \n",
       "1  b  1          3       3         6       0          1         1         0   \n",
       "2  b  1          4       1         6       0          0         0         0   \n",
       "3  b  1          3       4         6       0          1         0         1   \n",
       "4  b  1          3       3        22       0          0         0         0   \n",
       "\n",
       "   occupspecific    ...      compreq  orgreq  manuf  transcom  bankreal trade  \\\n",
       "0             17    ...          1.0     0.0    1.0       0.0       0.0   0.0   \n",
       "1            316    ...          1.0     0.0    1.0       0.0       0.0   0.0   \n",
       "2             19    ...          1.0     0.0    1.0       0.0       0.0   0.0   \n",
       "3            313    ...          1.0     0.0    1.0       0.0       0.0   0.0   \n",
       "4            313    ...          1.0     1.0    0.0       0.0       0.0   0.0   \n",
       "\n",
       "  busservice othservice  missind  ownership  \n",
       "0        0.0        0.0      0.0             \n",
       "1        0.0        0.0      0.0             \n",
       "2        0.0        0.0      0.0             \n",
       "3        0.0        0.0      0.0             \n",
       "4        0.0        1.0      0.0  Nonprofit  \n",
       "\n",
       "[5 rows x 65 columns]"
      ]
     },
     "execution_count": 3,
     "metadata": {},
     "output_type": "execute_result"
    }
   ],
   "source": [
    "df = pd.io.stata.read_stata('data/us_job_market_discrimination.dta')\n",
    "df.head()"
   ]
  },
  {
   "cell_type": "markdown",
   "metadata": {},
   "source": [
    "## Generate some basic statistics about the data set"
   ]
  },
  {
   "cell_type": "code",
   "execution_count": 4,
   "metadata": {
    "collapsed": true
   },
   "outputs": [
    {
     "name": "stdout",
     "output_type": "stream",
     "text": [
      "WHITE\n",
      "Total resumes: 2435\n",
      "callbacks: 235.0\n",
      "success rate: 9.65%\n",
      "\n",
      "\n",
      "BLACK\n",
      "Total resumes: 2435\n",
      "callbacks: 157.0\n",
      "success rate: 6.45%\n",
      "\n",
      "\n",
      "AGGREGATE\n",
      "Total resumes: 4870\n",
      "callbacks: 392.0\n",
      "success rate: 8.05%\n",
      "p: 0.08049281314168377\n"
     ]
    }
   ],
   "source": [
    "w = df[df.race == 'w']\n",
    "b = df[df.race == 'b']\n",
    "\n",
    "# white-sounding names\n",
    "w_r = np.sum(w.call)\n",
    "w_n = len(w)\n",
    "w_p = (w_r / w_n)\n",
    "print('WHITE\\nTotal resumes: {}\\ncallbacks: {}\\nsuccess rate: {}%\\n\\n'.format(w_n, w_r, round(w_p * 100, 2)))\n",
    "\n",
    "# black-sounding names\n",
    "b_r = np.sum(b.call)\n",
    "b_n = len(b)\n",
    "b_p = (b_r / b_n)\n",
    "print('BLACK\\nTotal resumes: {}\\ncallbacks: {}\\nsuccess rate: {}%\\n\\n'.format(b_n, b_r, round(b_p * 100, 2)))\n",
    "\n",
    "# aggregate values\n",
    "r = np.sum(df.call)\n",
    "n = len(df)\n",
    "p = r/n\n",
    "print('AGGREGATE\\nTotal resumes: {}\\ncallbacks: {}\\nsuccess rate: {}%'.format(n, r, round(p * 100, 2)))\n",
    "\n",
    "print('p: {}'.format(p))"
   ]
  },
  {
   "cell_type": "code",
   "execution_count": 5,
   "metadata": {},
   "outputs": [
    {
     "data": {
      "image/png": "[encoded data removed]",
      "text/plain": [
       "<matplotlib.figure.Figure at 0x10d5518d0>"
      ]
     },
     "metadata": {},
     "output_type": "display_data"
    }
   ],
   "source": [
    "# Plot CDFs of callbacks for black- vs. white-sounding names\n",
    "\n",
    "sns.set(rc={\"figure.figsize\": (12, 8)})\n",
    "plt.style.use('fivethirtyeight')\n",
    "\n",
    "w_samples = np.random.binomial(w_n, w_p, size=10000)\n",
    "b_samples = np.random.binomial(b_n, b_p, size=10000)\n",
    "\n",
    "wx, wy = ecdf(w_samples)\n",
    "_ = plt.plot(wx, wy, marker='.', linestyle='none')\n",
    "\n",
    "bx, by = ecdf(b_samples)\n",
    "_ = plt.plot(bx, by, marker='.', linestyle='none')\n",
    "plt.margins = 0.02\n",
    "_ = plt.xlabel('number of callbacks')\n",
    "_ = plt.ylabel('CDF')\n",
    "_ = plt.title('Black- vs. White-sounding Names')\n",
    "plt.show();"
   ]
  },
  {
   "cell_type": "code",
   "execution_count": 6,
   "metadata": {},
   "outputs": [
    {
     "name": "stdout",
     "output_type": "stream",
     "text": [
      "White-sounding names\n",
      "n*p:  235.0\n",
      "n*(1-p):  2200.0\n",
      "\n",
      "\n",
      "Black-sounding names\n",
      "n*p:  157.0\n",
      "n*(1-p) 2278.0\n"
     ]
    }
   ],
   "source": [
    "# threshold calculations for treatment as a normal distribution\n",
    "\n",
    "print('White-sounding names')\n",
    "print('n*p: ', w_n * w_p)\n",
    "print('n*(1-p): ', w_n * (1-w_p))\n",
    "\n",
    "print('\\n\\nBlack-sounding names')\n",
    "print('n*p: ', b_n * b_p) \n",
    "print('n*(1-p)', b_n * (1-b_p))\n"
   ]
  },
  {
   "cell_type": "markdown",
   "metadata": {},
   "source": [
    "## Question #1: What is the appropriate test for this problem?\n",
    "***\n",
    "We are comparing the success rates (as measured by the percentage of callbacks received) of two separate sample sets (those with white-sounding names versus those with black-sounding names).  \n",
    "\n",
    "A binomial distribution is the frequency distribution of the number of successes ($r$) in a given number of trials ($n$) with specified probability of success ($p$) in each trial.  Given a large enough sample size, the binomial distribution begins to approximate the normal distribution, as shown in the CDF plots above.  The number of samples is deemed to be large enough for a binomial distribution to be treated as a normal distribution provided that $n * p$ and $n(1-p)$ are both greater than 5 (some sources suggest greater than 10 or even 15).  In any case, our numbers are well above all three thresholds.\n",
    "\n",
    "Given that we have a large enough number of samples that were drawn independently from the same distribution, which has a finite mean and variance, the Central Limit Theorem applies.\n",
    "\n",
    "Since we are measuring the success rates of two binomial distributions, a two-sample test is called for.  The number of samples is large, so we may use the two-sample $Z$-test to calculate the margins of error, confidence intervals and p-values.\n",
    "\n",
    "__BUT, we aren't given the standard deviation of the population.  We can get the standard deviation of the sample since we have a binomial and we know n & p, but is this sufficient or should we use the t-test?__"
   ]
  },
  {
   "cell_type": "markdown",
   "metadata": {},
   "source": [
    "## Question #2: Null & Alternate Hypotheses\n",
    "***\n",
    "__Null Hypothesis__: the probability of success (getting a callback) is the same for both resumes with white-sounding names and black-sounding names.  \n",
    "$$H_0: \\widehat p_w = \\widehat p_b$$  \n",
    "\n",
    "__Alternate Hypothesis__: the probability of success IS NOT THE SAME for resumes with white-sounding names as it is for those with black-sounding names.  \n",
    "$$H_a: \\widehat p_w \\neq \\widehat p_b$$"
   ]
  },
  {
   "cell_type": "markdown",
   "metadata": {},
   "source": [
    "## Question #3: Margin of Error, Confidence Interval and p-value testing\n",
    "***\n"
   ]
  },
  {
   "cell_type": "markdown",
   "metadata": {},
   "source": [
    "### Frequentist Approach"
   ]
  },
  {
   "cell_type": "code",
   "execution_count": 7,
   "metadata": {},
   "outputs": [
    {
     "name": "stdout",
     "output_type": "stream",
     "text": [
      "Z-score: 4.108412152434346\n",
      "p-value: 3.983886837585077e-05\n"
     ]
    }
   ],
   "source": [
    "w = df[df.race=='w']\n",
    "b = df[df.race=='b']\n",
    "\n",
    "n_w = len(w)\n",
    "n_b = len(b)\n",
    "\n",
    "prop_w = np.sum(w.call) / len(w)\n",
    "prop_b = np.sum(b.call) / len(b)\n",
    "\n",
    "prop_diff = prop_w - prop_b\n",
    "phat = (np.sum(w.call) + np.sum(b.call)) / (len(w) + len(b))\n",
    "\n",
    "z = prop_diff / np.sqrt(phat * (1 - phat) * ((1 / n_w) + (1 / n_b)))\n",
    "pval = stats.norm.cdf(-z) * 2\n",
    "print(\"Z-score: {}\".format(z))\n",
    "print(\"p-value: {}\".format(pval))"
   ]
  },
  {
   "cell_type": "code",
   "execution_count": 22,
   "metadata": {},
   "outputs": [
    {
     "name": "stdout",
     "output_type": "stream",
     "text": [
      "Standard deviation of the sample: 0.007796894036170457\n",
      "Margin of Error: 0.015281912310894095\n",
      "95% Confidence Interval: (0.01675094189855149, 0.04731476652033968)\n"
     ]
    },
    {
     "data": {
      "text/plain": [
       "0.015281912310894095"
      ]
     },
     "execution_count": 22,
     "metadata": {},
     "output_type": "execute_result"
    },
    {
     "data": {
      "text/plain": [
       "0.03056382462178819"
      ]
     },
     "execution_count": 22,
     "metadata": {},
     "output_type": "execute_result"
    },
    {
     "data": {
      "text/plain": [
       "0.007796894036170457"
      ]
     },
     "execution_count": 22,
     "metadata": {},
     "output_type": "execute_result"
    }
   ],
   "source": [
    "pc = (n_w * prop_w + n_b * prop_b)/ (n_w + n_b)\n",
    "sigma = np.sqrt(pc*(1-pc)/n_w + pc*(1-pc)/n_b)\n",
    "print('Standard deviation of the sample: {}'.format(sigma))\n",
    "\n",
    "moe = 1.96 * np.sqrt(phat * (1 - phat) * ((1 / n_w) + (1 / n_b)))\n",
    "print(\"Margin of Error: {}\".format(moe))\n",
    "\n",
    "# 95% confidence interval\n",
    "ci = (prop_diff - moe, prop_diff + moe)\n",
    "\n",
    "print(\"95% Confidence Interval: {}\".format(ci))\n",
    "\n",
    "sigma*1.96\n",
    "moe*2\n",
    "moe/1.96"
   ]
  },
  {
   "cell_type": "markdown",
   "metadata": {},
   "source": [
    "### Bootstrap\n",
    "\n",
    "\n"
   ]
  },
  {
   "cell_type": "code",
   "execution_count": 31,
   "metadata": {},
   "outputs": [
    {
     "name": "stdout",
     "output_type": "stream",
     "text": [
      "Difference of sample means = 0.032032854209445585\n",
      "Difference of bootstrap replicate means = 0.03201905544147844\n",
      "95% confidence interval = 0.016837782340862417 - 0.04722792607802875\n",
      "p-value = 0.0193\n"
     ]
    }
   ],
   "source": [
    "# Construct arrays of data: white-sounding names, black-sounding names\n",
    "w_cb = np.array([True] * 235 + [False] * 2200)\n",
    "b_cb = np.array([True] * 157 + [False] * 2278)\n",
    "\n",
    "# Compute the difference of the sample means: mean_diff\n",
    "mean_diff = np.mean(w_cb) - np.mean(b_cb)\n",
    "\n",
    "# Get bootstrap replicates of means\n",
    "size = 10000\n",
    "bs_diff_replicates = np.empty(size)\n",
    "\n",
    "for i in range(size):\n",
    "    w_bs_replicates = np.random.choice(w_cb, len(w_cb))\n",
    "    b_bs_replicates = np.random.choice(b_cb, len(b_cb))\n",
    "    bs_diff_replicates[i] = np.mean(w_bs_replicates) - np.mean(b_bs_replicates)\n",
    "\n",
    "# Compute 95% confidence interval: conf_int\n",
    "(ci_low, ci_high) = np.percentile(bs_diff_replicates, [2.5, 97.5])\n",
    "\n",
    "# Print the results\n",
    "print('Difference of sample means =', mean_diff)\n",
    "print('Difference of bootstrap replicate means =', np.mean(bs_diff_replicates))\n",
    "print('95% confidence interval = {} - {}'.format(ci_low, ci_high))\n",
    "\n",
    "# Compute the p-value\n",
    "p = np.sum(bs_diff_replicates == mean_diff) / len(bs_diff_replicates)\n",
    "\n",
    "# Print p-value\n",
    "print('p-value =', p)"
   ]
  },
  {
   "cell_type": "markdown",
   "metadata": {},
   "source": [
    "### Permutation"
   ]
  },
  {
   "cell_type": "code",
   "execution_count": 29,
   "metadata": {},
   "outputs": [
    {
     "name": "stdout",
     "output_type": "stream",
     "text": [
      "p-value: 0.0\n",
      "Difference of perm_replicate means = 0.0002004928131416838\n",
      "95% confidence interval: [-0.01478439  0.01560575]\n"
     ]
    },
    {
     "data": {
      "text/plain": [
       "array([ 0.        , -0.00410678,  0.00574949, -0.00574949, -0.00574949])"
      ]
     },
     "execution_count": 29,
     "metadata": {},
     "output_type": "execute_result"
    }
   ],
   "source": [
    "# callbacks for WSNs - BSNs\n",
    "def diff_frac(data_A, data_B):\n",
    "    frac_A = np.sum(data_A == 1) / len(data_A)\n",
    "    frac_B = np.sum(data_B == 1) / len(data_B)\n",
    "    return frac_A - frac_B\n",
    "\n",
    "#def diff_frac(a, b):\n",
    " #   \"\"\"Compute fraction of a.\"\"\"\n",
    "  #  #frac = np.sum(a) / len(a)\n",
    "   # frac = np.mean(a) - np.mean(b)\n",
    "    #return frac\n",
    "\n",
    "diff_frac_obs = diff_frac(w_cb, b_cb)\n",
    "\n",
    "perm_replicates = np.empty(10000)\n",
    "\n",
    "for i in range(10000):\n",
    "    # Concatenate the data sets: data\n",
    "    data = np.concatenate((w_cb, b_cb))\n",
    "\n",
    "    # Permute the concatenated array: permuted_data\n",
    "    permuted_data = np.random.permutation(data)\n",
    "\n",
    "    # Split the permuted array into two: perm_sample_1, perm_sample_2\n",
    "    perm_sample_1 = permuted_data[:len(w_cb)]\n",
    "    perm_sample_2 = permuted_data[len(w_cb):]\n",
    "    perm_replicates[i] = diff_frac(perm_sample_1, perm_sample_2)\n",
    "    \n",
    "# p-value: how many replicated differences are larger than the observed value\n",
    "p_value = np.sum(perm_replicates >= diff_frac_obs) / len(perm_replicates)\n",
    "print('p-value: {}'.format(p_value))\n",
    "\n",
    "print('Difference of perm_replicate means =', np.mean(perm_replicates))\n",
    "\n",
    "#(ci_perm_low, ci_perm_high) = np.percentile(perm_replicates, [2.5, 97.5])\n",
    "print('95% confidence interval: {}'.format(np.percentile(perm_replicates, [2.5, 97.5])))\n",
    "perm_replicates[:5]"
   ]
  },
  {
   "cell_type": "markdown",
   "metadata": {},
   "source": [
    "### Analysis: \n",
    "The p-value for the Frequentist and Boostrap approaches are both well below the p=0.05 threshold so we must reject the null hypothesis in favor of the alternate hypothesis that perception of race based on the name on the resume does have an effect on whether an applicant will receive a callback.  The 95% confidence interval does not include 0, therefore, we can conclude that at least 95% of the samples taken will not result in the chances for callbacks being the same, regardless of name."
   ]
  },
  {
   "cell_type": "code",
   "execution_count": 26,
   "metadata": {},
   "outputs": [
    {
     "data": {
      "image/png": "[encoded data removed]",
      "text/plain": [
       "<matplotlib.figure.Figure at 0x112e09438>"
      ]
     },
     "metadata": {},
     "output_type": "display_data"
    }
   ],
   "source": [
    "x = np.linspace(-5 * sigma, 5 * sigma, 100)\n",
    "plt.plot(x, mlab.normpdf(x,0,sigma))\n",
    "plt.axvline(moe)\n",
    "plt.axvline(-moe)\n",
    "plt.axvline(prop_diff,color='red')\n",
    "plt.annotate(np.round(moe,4), (0.017,25))\n",
    "plt.annotate(-np.round(moe,4), (-0.022,25))\n",
    "plt.annotate('proportion difference = ', (0.025,30))\n",
    "plt.annotate(np.round(prop_diff,4), (0.03,25))\n",
    "plt.show();"
   ]
  },
  {
   "cell_type": "code",
   "execution_count": null,
   "metadata": {},
   "outputs": [],
   "source": []
  }
 ],
 "metadata": {
  "kernelspec": {
   "display_name": "Python 3",
   "language": "python",
   "name": "python3"
  },
  "language_info": {
   "codemirror_mode": {
    "name": "ipython",
    "version": 3
   },
   "file_extension": ".py",
   "mimetype": "text/x-python",
   "name": "python",
   "nbconvert_exporter": "python",
   "pygments_lexer": "ipython3",
   "version": "3.6.4"
  }
 },
 "nbformat": 4,
 "nbformat_minor": 2
}
