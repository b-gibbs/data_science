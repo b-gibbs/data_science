{
 "cells": [
  {
   "cell_type": "markdown",
   "metadata": {},
   "source": [
    "# Human Body Temperature\n",
    "***"
   ]
  },
  {
   "cell_type": "code",
   "execution_count": 1,
   "metadata": {
    "collapsed": true
   },
   "outputs": [],
   "source": [
    "# IMPORTS\n",
    "import numpy as np\n",
    "import pandas as pd\n",
    "import matplotlib.pyplot as plt\n",
    "import seaborn as sns\n",
    "import scipy.stats as stats\n",
    "import pylab\n",
    "\n",
    "# turn edges on in plt\n",
    "plt.rcParams[\"patch.force_edgecolor\"] = True\n",
    "%matplotlib inline\n",
    "\n",
    "np.random.seed(42)\n",
    "\n",
    "df = pd.read_csv('data/human_body_temperature.csv')"
   ]
  },
  {
   "cell_type": "code",
   "execution_count": 2,
   "metadata": {},
   "outputs": [],
   "source": [
    "# FUNCTIONS USED\n",
    "\n",
    "def ecdf(data):\n",
    "    \"\"\"Compute ECDF for a one-dimensional array of measurements.\"\"\"\n",
    "\n",
    "    # Number of data points: n\n",
    "    n = len(data)\n",
    "\n",
    "    # x: sort the data\n",
    "    x = np.sort(data)\n",
    "\n",
    "    # y: range for y-axis\n",
    "    y = np.arange(1, n+1) / n\n",
    "\n",
    "    return x, y"
   ]
  },
  {
   "cell_type": "code",
   "execution_count": 3,
   "metadata": {
    "collapsed": true
   },
   "outputs": [
    {
     "data": {
      "text/html": [
       "<div>\n",
       "<style>\n",
       "    .dataframe thead tr:only-child th {\n",
       "        text-align: right;\n",
       "    }\n",
       "\n",
       "    .dataframe thead th {\n",
       "        text-align: left;\n",
       "    }\n",
       "\n",
       "    .dataframe tbody tr th {\n",
       "        vertical-align: top;\n",
       "    }\n",
       "</style>\n",
       "<table border=\"1\" class=\"dataframe\">\n",
       "  <thead>\n",
       "    <tr style=\"text-align: right;\">\n",
       "      <th></th>\n",
       "      <th>temperature</th>\n",
       "      <th>gender</th>\n",
       "      <th>heart_rate</th>\n",
       "    </tr>\n",
       "  </thead>\n",
       "  <tbody>\n",
       "    <tr>\n",
       "      <th>0</th>\n",
       "      <td>99.3</td>\n",
       "      <td>F</td>\n",
       "      <td>68.0</td>\n",
       "    </tr>\n",
       "    <tr>\n",
       "      <th>1</th>\n",
       "      <td>98.4</td>\n",
       "      <td>F</td>\n",
       "      <td>81.0</td>\n",
       "    </tr>\n",
       "    <tr>\n",
       "      <th>2</th>\n",
       "      <td>97.8</td>\n",
       "      <td>M</td>\n",
       "      <td>73.0</td>\n",
       "    </tr>\n",
       "    <tr>\n",
       "      <th>3</th>\n",
       "      <td>99.2</td>\n",
       "      <td>F</td>\n",
       "      <td>66.0</td>\n",
       "    </tr>\n",
       "    <tr>\n",
       "      <th>4</th>\n",
       "      <td>98.0</td>\n",
       "      <td>F</td>\n",
       "      <td>73.0</td>\n",
       "    </tr>\n",
       "    <tr>\n",
       "      <th>5</th>\n",
       "      <td>99.2</td>\n",
       "      <td>M</td>\n",
       "      <td>83.0</td>\n",
       "    </tr>\n",
       "    <tr>\n",
       "      <th>6</th>\n",
       "      <td>98.0</td>\n",
       "      <td>M</td>\n",
       "      <td>71.0</td>\n",
       "    </tr>\n",
       "    <tr>\n",
       "      <th>7</th>\n",
       "      <td>98.8</td>\n",
       "      <td>M</td>\n",
       "      <td>78.0</td>\n",
       "    </tr>\n",
       "    <tr>\n",
       "      <th>8</th>\n",
       "      <td>98.4</td>\n",
       "      <td>F</td>\n",
       "      <td>84.0</td>\n",
       "    </tr>\n",
       "    <tr>\n",
       "      <th>9</th>\n",
       "      <td>98.6</td>\n",
       "      <td>F</td>\n",
       "      <td>86.0</td>\n",
       "    </tr>\n",
       "  </tbody>\n",
       "</table>\n",
       "</div>"
      ],
      "text/plain": [
       "   temperature gender  heart_rate\n",
       "0         99.3      F        68.0\n",
       "1         98.4      F        81.0\n",
       "2         97.8      M        73.0\n",
       "3         99.2      F        66.0\n",
       "4         98.0      F        73.0\n",
       "5         99.2      M        83.0\n",
       "6         98.0      M        71.0\n",
       "7         98.8      M        78.0\n",
       "8         98.4      F        84.0\n",
       "9         98.6      F        86.0"
      ]
     },
     "execution_count": 3,
     "metadata": {},
     "output_type": "execute_result"
    }
   ],
   "source": [
    "df.head(10)"
   ]
  },
  {
   "cell_type": "markdown",
   "metadata": {},
   "source": [
    "<h3>Exercises</h3>"
   ]
  },
  {
   "cell_type": "markdown",
   "metadata": {},
   "source": [
    "### Question #1  \n",
    "\n",
    "Is the distribution of body temperatures normal?</br>  \n",
    "<ul>\n",
    "    <li>Although this is not a requirement for the Central Limit Theorem to hold (read the introduction on Wikipedia's page about the CLT carefully: https://en.wikipedia.org/wiki/Central_limit_theorem), it gives us some peace of mind that the population may also be normally distributed if we assume that this sample is representative of the population.</br>\n",
    "    <li>Think about the way you're going to check for the normality of the distribution. Graphical methods are usually used first, but there are also other ways: https://en.wikipedia.org/wiki/Normality_test  \n",
    "</ul>\n",
    "In order to answer this question, we'll:\n",
    "<ol>\n",
    "    <li>plot data as a histogram and compare it to the normal distribution\n",
    "    <li>plot the Empirical Cumulative Distribution Function of the temperature data superimposed on top of the analytic Cumulative Distribution Function for the normal distribution and compare the two distributions\n",
    "</ol>"
   ]
  },
  {
   "cell_type": "code",
   "execution_count": 4,
   "metadata": {},
   "outputs": [
    {
     "data": {
      "image/png": "[encoded data removed]",
      "text/plain": [
       "<matplotlib.figure.Figure at 0x1081a25f8>"
      ]
     },
     "metadata": {},
     "output_type": "display_data"
    }
   ],
   "source": [
    "# Plot a histogram to see whether the distribution is normal\n",
    "\n",
    "# set seaborn graphics\n",
    "sns.set()\n",
    "\n",
    "temp = df.temperature\n",
    "\n",
    "# plot hist\n",
    "_ = plt.hist(temp, normed=True, bins=10)\n",
    "\n",
    "# labels\n",
    "_ = plt.xlabel('Temperature (F)')\n",
    "_ = plt.ylabel('Frequency')\n",
    "_ = plt.title('Human Body Temperatures')\n",
    "margins = 0.02\n",
    "\n",
    "plt.show();"
   ]
  },
  {
   "cell_type": "markdown",
   "metadata": {},
   "source": [
    "<div class=\"alert alert-block alert-success\">\n",
    "<h4>Analysis:</h4> Given the small sample size, the data is fairly normally distributed, skewing slightly to the left.  We'll get a better look at it with the graphs, below.\n",
    "</div>"
   ]
  },
  {
   "cell_type": "code",
   "execution_count": 5,
   "metadata": {},
   "outputs": [
    {
     "data": {
      "image/png": "[encoded data removed]",
      "text/plain": [
       "<matplotlib.figure.Figure at 0x10349bdd8>"
      ]
     },
     "metadata": {},
     "output_type": "display_data"
    }
   ],
   "source": [
    "stats.probplot(temp, dist='norm', plot=pylab);"
   ]
  },
  {
   "cell_type": "code",
   "execution_count": 6,
   "metadata": {},
   "outputs": [
    {
     "data": {
      "image/png": "[encoded data removed]",
      "text/plain": [
       "<matplotlib.figure.Figure at 0x10b09d0b8>"
      ]
     },
     "metadata": {},
     "output_type": "display_data"
    }
   ],
   "source": [
    "# Plot the CDFs\n",
    "x, y = ecdf(temp)\n",
    "\n",
    "# draw 100,000 random samples from a normal distribution\n",
    "nm_temp = np.random.normal(np.mean(temp), np.std(temp), 100000)\n",
    "nm_x, nm_y = ecdf(nm_temp)\n",
    "\n",
    "_ = plt.plot(x, y, marker='.', linestyle='none')\n",
    "_ = plt.plot(nm_x, nm_y)\n",
    "\n",
    "_ = plt.xlabel('Temperature (F)')\n",
    "_ = plt.ylabel('CDF')\n",
    "_ = plt.title('Human Body Temperatures')\n",
    "margins = 0.02\n",
    "\n",
    "plt.show();"
   ]
  },
  {
   "cell_type": "markdown",
   "metadata": {},
   "source": [
    "<div class=\"alert alert-block alert-success\">\n",
    "<h4>Analysis:</h4>  The frequency distribution of the data is very close to normal, although the QQ plot and the CDF both show some variation and a couple of outliers on both tails.\n",
    "</div>"
   ]
  },
  {
   "cell_type": "markdown",
   "metadata": {},
   "source": [
    "### Question #2\n",
    "***\n",
    "Is the sample size large? Are the observations independent?\n",
    " - Remember that this is a condition for the Central Limit Theorem, and hence the statistical tests we are using, to apply.\n"
   ]
  },
  {
   "cell_type": "code",
   "execution_count": 7,
   "metadata": {},
   "outputs": [
    {
     "name": "stdout",
     "output_type": "stream",
     "text": [
      "<class 'pandas.core.frame.DataFrame'>\n",
      "RangeIndex: 130 entries, 0 to 129\n",
      "Data columns (total 3 columns):\n",
      "temperature    130 non-null float64\n",
      "gender         130 non-null object\n",
      "heart_rate     130 non-null float64\n",
      "dtypes: float64(2), object(1)\n",
      "memory usage: 3.1+ KB\n"
     ]
    }
   ],
   "source": [
    "df.info()"
   ]
  },
  {
   "cell_type": "markdown",
   "metadata": {},
   "source": [
    "<div class=\"alert alert-block alert-success\">\n",
    "<h4>Analysis:</h4>  It is generally accepted that if data is symmetric about the mean and unimodal, 30 samples are enough for the Central Limit Theorem to apply.  The 130 observations we have is a tiny fraction of the population of all humans, but our data is symmetric about the mean and essentially unimodal, so the Central Limit Theorem is applicable.\n",
    "\n",
    "For the observations to be independent it would mean that knowing the outcome of one sample would provide us with no information about another sample.  In this case, knowing one person's body temperature gives us no information about any other measured body temperature.  Gender or heart rate may have an effect on body temperature.  The effects of gender on mean body temperature are explored below.  \n",
    "</div>"
   ]
  },
  {
   "cell_type": "markdown",
   "metadata": {},
   "source": [
    "### Question #3\n",
    "***\n",
    "Is the true population mean really 98.6 degrees F?\n",
    "<ol>\n",
    "    <li> First, try a bootstrap hypothesis test.\n",
    "    <li> Now, let's try frequentist statistical testing. Would you use a one-sample or two-sample test? Why?\n",
    "    <li> In this situation, is it appropriate to use the $t$ or $z$ statistic? \n",
    "    <li> Now try using the other test. How is the result be different? Why?\n",
    "</ol>"
   ]
  },
  {
   "cell_type": "markdown",
   "metadata": {},
   "source": [
    "<h4>Hypotheses:</h4>  \n",
    "$H_0:\\  \\bar x =$ 98.6°  \n",
    "$H_a:\\  \\bar x \\neq$ 98.6°"
   ]
  },
  {
   "cell_type": "code",
   "execution_count": 8,
   "metadata": {},
   "outputs": [
    {
     "data": {
      "text/html": [
       "<div>\n",
       "<style>\n",
       "    .dataframe thead tr:only-child th {\n",
       "        text-align: right;\n",
       "    }\n",
       "\n",
       "    .dataframe thead th {\n",
       "        text-align: left;\n",
       "    }\n",
       "\n",
       "    .dataframe tbody tr th {\n",
       "        vertical-align: top;\n",
       "    }\n",
       "</style>\n",
       "<table border=\"1\" class=\"dataframe\">\n",
       "  <thead>\n",
       "    <tr style=\"text-align: right;\">\n",
       "      <th></th>\n",
       "      <th>temperature</th>\n",
       "      <th>heart_rate</th>\n",
       "    </tr>\n",
       "  </thead>\n",
       "  <tbody>\n",
       "    <tr>\n",
       "      <th>count</th>\n",
       "      <td>130.000000</td>\n",
       "      <td>130.000000</td>\n",
       "    </tr>\n",
       "    <tr>\n",
       "      <th>mean</th>\n",
       "      <td>98.249231</td>\n",
       "      <td>73.761538</td>\n",
       "    </tr>\n",
       "    <tr>\n",
       "      <th>std</th>\n",
       "      <td>0.733183</td>\n",
       "      <td>7.062077</td>\n",
       "    </tr>\n",
       "    <tr>\n",
       "      <th>min</th>\n",
       "      <td>96.300000</td>\n",
       "      <td>57.000000</td>\n",
       "    </tr>\n",
       "    <tr>\n",
       "      <th>25%</th>\n",
       "      <td>97.800000</td>\n",
       "      <td>69.000000</td>\n",
       "    </tr>\n",
       "    <tr>\n",
       "      <th>50%</th>\n",
       "      <td>98.300000</td>\n",
       "      <td>74.000000</td>\n",
       "    </tr>\n",
       "    <tr>\n",
       "      <th>75%</th>\n",
       "      <td>98.700000</td>\n",
       "      <td>79.000000</td>\n",
       "    </tr>\n",
       "    <tr>\n",
       "      <th>max</th>\n",
       "      <td>100.800000</td>\n",
       "      <td>89.000000</td>\n",
       "    </tr>\n",
       "  </tbody>\n",
       "</table>\n",
       "</div>"
      ],
      "text/plain": [
       "       temperature  heart_rate\n",
       "count   130.000000  130.000000\n",
       "mean     98.249231   73.761538\n",
       "std       0.733183    7.062077\n",
       "min      96.300000   57.000000\n",
       "25%      97.800000   69.000000\n",
       "50%      98.300000   74.000000\n",
       "75%      98.700000   79.000000\n",
       "max     100.800000   89.000000"
      ]
     },
     "execution_count": 8,
     "metadata": {},
     "output_type": "execute_result"
    }
   ],
   "source": [
    "df.describe()"
   ]
  },
  {
   "cell_type": "markdown",
   "metadata": {},
   "source": [
    "The mean of the sample is 98.25°, not 98.6°."
   ]
  },
  {
   "cell_type": "markdown",
   "metadata": {},
   "source": [
    "#### 3.1 bootstrap hypothesis test - 100,000 samples"
   ]
  },
  {
   "cell_type": "code",
   "execution_count": 9,
   "metadata": {},
   "outputs": [
    {
     "name": "stdout",
     "output_type": "stream",
     "text": [
      "p-value:  0.0\n"
     ]
    }
   ],
   "source": [
    "# bootstrap hypothesis test with 100,000 samples\n",
    "bs_replicates = np.empty(100000)\n",
    "\n",
    "temperature = df.temperature\n",
    "size = len(bs_replicates)\n",
    "\n",
    "for i in range(size):\n",
    "    bs_sample = np.random.choice(temperature, len(temperature))\n",
    "    bs_replicates[i] = np.mean(bs_sample)\n",
    "    \n",
    "p = np.sum(bs_replicates >= 98.6) / size\n",
    "\n",
    "print('p-value: ', p)"
   ]
  },
  {
   "cell_type": "markdown",
   "metadata": {},
   "source": [
    "<div class=\"alert alert-block alert-success\">\n",
    "<h4>Analysis:</h4>  Through 100,000 bootstrap samples we arrive at a p-value of 0.0, indicating a statistically-significant difference between the mean of our sample data and 98.6°.  Our null hypothesis should be rejected.\n",
    "</div>"
   ]
  },
  {
   "cell_type": "markdown",
   "metadata": {},
   "source": [
    "#### 3.2 frequentist statistical testing\n",
    "Now, let's try frequentist statistical testing. Would you use a one-sample or two-sample test? Why?"
   ]
  },
  {
   "cell_type": "markdown",
   "metadata": {},
   "source": [
    "<div class=\"alert alert-block alert-success\"><h4>Analysis:</h4> We are comparing the mean of a single sample to 98.6° to determine whether there is a statistically-significant difference.  This is a classic use case for a one-sample test.  A two-sample test is used to determine if two population means are equal, commonly used to test if a new process or treatment is superior to a current process or treatment.\n",
    "</div>"
   ]
  },
  {
   "cell_type": "markdown",
   "metadata": {},
   "source": [
    "#### 3.3 / 3.4 $t-$ or $Z-$ statistic?"
   ]
  },
  {
   "cell_type": "markdown",
   "metadata": {},
   "source": [
    "In this situation, is it appropriate to use the $t-$ or $Z-$statistic?\n",
    "Now try using the other test. How is the result different? Why?"
   ]
  },
  {
   "cell_type": "code",
   "execution_count": 10,
   "metadata": {},
   "outputs": [
    {
     "name": "stdout",
     "output_type": "stream",
     "text": [
      "Z-score: -5.47593\n",
      "p-value: 0.0\n",
      "\n",
      "t-score: -5.45482\n",
      "p-value: 0.0\n"
     ]
    }
   ],
   "source": [
    "z_score = (np.mean(df.temperature) - 98.6) / (np.std(df.temperature) / np.sqrt(len(df.temperature)))\n",
    "\n",
    "p_value = stats.norm.sf(abs(z_score))*2\n",
    "print('Z-score: {}\\np-value: {}\\n'.format(round(z_score, 5), round(p_value, 5)))\n",
    "\n",
    "t_stat = stats.ttest_1samp(temperature, 98.6)\n",
    "print('t-score: {}\\np-value: {}'.format(round(t_stat.statistic, 5), round(t_stat.pvalue, 5)))"
   ]
  },
  {
   "cell_type": "markdown",
   "metadata": {},
   "source": [
    "<div class=\"alert alert-block alert-success\">\n",
    "<h4>Analysis:</h4> The $t$-statistic is typically reserved for sample sizes less than 30 ($n$ < 30), when the sample distribution is symmetric about the mean and unimodal.  As the sample size increases above 30, the $t$-distribution begins to look increasingly like the $Z$-distribution.  Given our sample size of 130 and the fact that our distribution is more-or-less symmetrical about the mean and unimodal, the $Z$-statistic is the better choice.  </br>\n",
    "We use a two-tailed test since our mean could be either greater or less than 98.6°.  Both the $t-$ and $Z-$ statistics have small enough p-values to make them significant.  </br>  \n",
    "For a 95% confidence interval, the z*-value is 1.96, meaning our z-score must be within 1.96 standard errors from the hypothesized mean of 98.6.  Both methods show that the mean of the sample is more than five standard deviations less than 98.6°.  We can safely reject the null hypothesis.\n",
    "</div>"
   ]
  },
  {
   "cell_type": "markdown",
   "metadata": {},
   "source": [
    "### Question #4\n",
    "***\n",
    "Draw a small sample of size 10 from the data and repeat both frequentist tests. \n",
    "<ul>\n",
    "    <li> Which one is the correct one to use? \n",
    "    <li> What do you notice? What does this tell you about the difference in application of the $t$ and $z$ statistic?\n",
    "    </ul>"
   ]
  },
  {
   "cell_type": "markdown",
   "metadata": {},
   "source": [
    "#### $t-$score"
   ]
  },
  {
   "cell_type": "code",
   "execution_count": 11,
   "metadata": {},
   "outputs": [],
   "source": [
    "sample_temp = np.random.choice(a = df.temperature, size=10)"
   ]
  },
  {
   "cell_type": "code",
   "execution_count": 12,
   "metadata": {},
   "outputs": [
    {
     "name": "stdout",
     "output_type": "stream",
     "text": [
      "t-score: -1.54598\n",
      "p-value:  0.15651\n"
     ]
    }
   ],
   "source": [
    "r = stats.ttest_1samp(sample_temp, 98.6)\n",
    "print('t-score: {}\\np-value: '.format(round(r.statistic, 5)), round(r.pvalue, 5))"
   ]
  },
  {
   "cell_type": "markdown",
   "metadata": {},
   "source": [
    "#### $Z-$score"
   ]
  },
  {
   "cell_type": "code",
   "execution_count": 13,
   "metadata": {},
   "outputs": [
    {
     "name": "stdout",
     "output_type": "stream",
     "text": [
      "Z-score: -1.6296\n",
      "p-value: 0.10319\n"
     ]
    }
   ],
   "source": [
    "z_score = (np.mean(sample_temp) - 98.6) / (np.std(sample_temp) / np.sqrt(len(sample_temp)))\n",
    "\n",
    "p_value = stats.norm.sf(abs(z_score)) * 2\n",
    "\n",
    "print('Z-score: {}\\np-value: {}'.format((round(z_score, 5)), round(p_value, 5)))"
   ]
  },
  {
   "cell_type": "markdown",
   "metadata": {},
   "source": [
    "<div class=\"alert alert-block alert-success\">\n",
    "<h4>Analysis:</h4> In this case, since $n$ < 30, best practices indicate we should use the $t-$score.\n",
    "However, the p-values of both the $t-$score and $Z-$score are well above the 0.05 typically required for statistical significance.  While p-value alone shouldn't be determinative, it is a useful metric in situations where you want to know whether a model result that appears interesting and useful is within the range of normal chance variability.  \n",
    "Taking into consideration the results we got with larger sample sizes, I'd say these results indicate that we need a larger sample size before we can make any determination on the value of these scores.\n",
    "</div>"
   ]
  },
  {
   "cell_type": "markdown",
   "metadata": {},
   "source": [
    "### Question #5\n",
    "***\n",
    "At what temperature should we consider someone's temperature to be \"abnormal\"?\n",
    "<ul>\n",
    "    <li> As in the previous example, try calculating everything using the boostrap approach, as well as the frequentist approach.\n",
    "    <li> Start by computing the margin of error and confidence interval. When calculating the confidence interval, keep in mind that you should use the appropriate formula for one draw, and not N draws.\n",
    "</ul>"
   ]
  },
  {
   "cell_type": "code",
   "execution_count": 14,
   "metadata": {},
   "outputs": [
    {
     "name": "stdout",
     "output_type": "stream",
     "text": [
      "mu: 98.249\n",
      "sigma: 0.73\n",
      "\n",
      "z* value: 1.96\n",
      "margin of error: 1.431\n",
      "\n",
      "confidence interval (one draw): 96.818 - 99.681\n"
     ]
    }
   ],
   "source": [
    "mu = np.mean(temp)\n",
    "sigma = np.std(temp)\n",
    "print('mu: {}\\nsigma: {}\\n'.format(round(mu, 3), round(sigma, 3)))\n",
    "\n",
    "# z*-value\n",
    "z_critical = stats.norm.ppf(q = 0.975)              \n",
    "\n",
    "# margin of error \n",
    "margin_of_error = z_critical * sigma\n",
    "print('z* value: {}\\nmargin of error: {}\\n'.format(round(z_critical, 3), round(margin_of_error, 3))) \n",
    "\n",
    "# confidence interval for one draw\n",
    "ci_low, ci_high = stats.norm.interval(0.95, loc=mu, scale=sigma)\n",
    "print('confidence interval (one draw): {} - {}'.format(round(ci_low, 3), round(ci_high, 3)))\n"
   ]
  },
  {
   "cell_type": "markdown",
   "metadata": {},
   "source": [
    "<div class=\"alert alert-block alert-success\">\n",
    "<h4>Analysis:</h4>  A temperature below 96.81° or above 99.68° would be considered abnormal.\n",
    "</div>"
   ]
  },
  {
   "cell_type": "markdown",
   "metadata": {},
   "source": [
    "### Question #6\n",
    "***\n",
    "Is there a significant difference between males and females in normal temperature?\n",
    "<ul>\n",
    "    <li> What testing approach did you use and why?\n",
    "    <li> Write a story with your conclusion in the context of the original problem.\n",
    "</ul>"
   ]
  },
  {
   "cell_type": "markdown",
   "metadata": {},
   "source": [
    "In order to determine whether there is a statistically-significant difference between the normal body temperatures of men and women, we start by comparing the means of the two groups using a two-sample test.  \n",
    "boxplot\n",
    "ecdfs to determine we can use CLT\n",
    "__USE Z-SCORE FOR N>30__\n",
    "\n",
    "\n",
    "We'll use `scipy.stats.ttest_ind` to compare the means of the two groups."
   ]
  },
  {
   "cell_type": "code",
   "execution_count": 15,
   "metadata": {},
   "outputs": [
    {
     "name": "stdout",
     "output_type": "stream",
     "text": [
      "Of the 130 participants, 65 are female and 65 are male.\n"
     ]
    }
   ],
   "source": [
    "males = df[df.gender == 'M']\n",
    "females = df[df.gender == 'F']\n",
    "\n",
    "print('Of the {} participants, {} are female and {} are male.'.format(len(males + females), len(females), len(males)))\n"
   ]
  },
  {
   "cell_type": "code",
   "execution_count": 16,
   "metadata": {},
   "outputs": [
    {
     "data": {
      "image/png": "[encoded data removed]",
      "text/plain": [
       "<matplotlib.figure.Figure at 0x10b07d7b8>"
      ]
     },
     "metadata": {},
     "output_type": "display_data"
    }
   ],
   "source": [
    "# plot a boxplot for an overview\n",
    "sns.boxplot(x = 'gender', y = 'temperature', data=df)\n",
    "\n",
    "_ = plt.xlabel('Gender')\n",
    "_ = plt.ylabel('Temp')\n",
    "_ = plt.title('Body Temp by Gender')\n",
    "\n",
    "plt.show();"
   ]
  },
  {
   "cell_type": "code",
   "execution_count": 20,
   "metadata": {},
   "outputs": [
    {
     "data": {
      "image/png": "[encoded data removed]",
      "text/plain": [
       "<matplotlib.figure.Figure at 0x1a127852e8>"
      ]
     },
     "metadata": {},
     "output_type": "display_data"
    }
   ],
   "source": [
    "# are both samples normally distributed?\n",
    "\n",
    "sns.set(rc={\"figure.figsize\": (12, 8)})\n",
    "\n",
    "\n",
    "# Compute the ECDFs for males and females\n",
    "x_male, y_male = ecdf(males.temperature)\n",
    "x_female, y_female = ecdf(females.temperature)\n",
    "\n",
    "# Generate plot\n",
    "plt.plot(x_male, y_male, marker = '.', linestyle = 'none', color='b')\n",
    "plt.plot(x_female, y_female, marker='.', linestyle='none', color='r')\n",
    "\n",
    "# draw 100,000 random samples from a normal distribution\n",
    "m_norm_dist = np.random.normal(np.mean(males.temperature), np.std(males.temperature), 100000)\n",
    "mnd_x, mnd_y = ecdf(m_norm_dist)\n",
    "_ = plt.plot(mnd_x, mnd_y, color='b', alpha=0.5)\n",
    "\n",
    "# draw 100,000 random samples from a normal distribution\n",
    "f_norm_dist = np.random.normal(np.mean(females.temperature), np.std(females.temperature), 100000)\n",
    "fnd_x, fnd_y = ecdf(f_norm_dist)\n",
    "_ = plt.plot(fnd_x, fnd_y, color='r', alpha=0.5)\n",
    "\n",
    "# Make the margins nice\n",
    "plt.margins = 0.02\n",
    "\n",
    "# Label the axes\n",
    "_ = plt.xlabel('Gender')\n",
    "_ = plt.ylabel('ECDF')\n",
    "_ = plt.legend(('males', 'females'), loc='lower right')\n",
    "\n",
    "plt.show();"
   ]
  },
  {
   "cell_type": "code",
   "execution_count": 18,
   "metadata": {},
   "outputs": [
    {
     "name": "stdout",
     "output_type": "stream",
     "text": [
      "t-score: -2.28543453817\n",
      "p-value: 0.0239318831224\n"
     ]
    }
   ],
   "source": [
    "r = stats.ttest_ind(males.temperature, females.temperature, equal_var=True)\n",
    "print('t-score: {}\\np-value: {}'.format(str(r.statistic), str(r.pvalue)))"
   ]
  },
  {
   "cell_type": "markdown",
   "metadata": {},
   "source": [
    "__Analysis__:"
   ]
  }
 ],
 "metadata": {
  "kernelspec": {
   "display_name": "Python 3",
   "language": "python",
   "name": "python3"
  },
  "language_info": {
   "codemirror_mode": {
    "name": "ipython",
    "version": 3
   },
   "file_extension": ".py",
   "mimetype": "text/x-python",
   "name": "python",
   "nbconvert_exporter": "python",
   "pygments_lexer": "ipython3",
   "version": "3.6.4"
  }
 },
 "nbformat": 4,
 "nbformat_minor": 2
}
