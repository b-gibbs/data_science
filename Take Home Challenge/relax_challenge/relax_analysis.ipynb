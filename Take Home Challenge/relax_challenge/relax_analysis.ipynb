{
 "cells": [
  {
   "cell_type": "markdown",
   "metadata": {},
   "source": [
    "# Relax Take Home Challenge - Analysis"
   ]
  },
  {
   "cell_type": "markdown",
   "metadata": {},
   "source": [
    "Some quick EDA showed that the data in the form given to us didn't provide many distinguishing features, so I decided to create some new features.  Common sense suggests that those who login shortly after generating their accounts and those who login more frequently are most likely to become adopted users."
   ]
  },
  {
   "cell_type": "markdown",
   "metadata": {},
   "source": [
    "## Cleaning and Feature Engineering Steps\n",
    "### 1. identify adopted users\n",
    "To identify the adopted users (users who logged in at least three times over a seven day period), I added a column to count the number of visits over a rolling seven day period:\n",
    "\n",
    "```python\n",
    "def get_rolling_count(grp, freq):\n",
    "    return grp.rolling(freq, on='time_stamp')['user_id'].count()\n",
    "\n",
    "engage['visits_7_days'] = engage.groupby('user_id', as_index=False, group_keys=False).apply(get_rolling_count, '7D')\n",
    "```\n",
    "\n",
    "Then, I collected each row >= 3, dropped duplicates after the first occurrence and converted the results to a list. I used `.isin` to check whether the `object_id` in the users DataFrame was in the list of adopted users and marked matches as `True` in the users DataFrame.\n"
   ]
  },
  {
   "cell_type": "markdown",
   "metadata": {},
   "source": [
    "### 2. add col for time between account creation and initial login\n",
    "I grouped by `user_id` and used `np.min` with a `.agg` function to find the first login for each user, added that time stamp to the users DataFrame and created a new column to record the time in days between creation of each account and first login."
   ]
  },
  {
   "cell_type": "markdown",
   "metadata": {},
   "source": [
    "### 3. add col for mean time between logins\n",
    "I created a new DataFrame to calculate and store the time between logins:\n",
    "\n",
    "```python\n",
    "gap = engage.groupby('user_id').time_stamp.apply(lambda x: x - x.shift()).dt.days\n",
    "```\n",
    "\n",
    "I then grouped these by user, calculated a mean time between all logins for each user and merged the resulting Series into the users DataFrame."
   ]
  },
  {
   "cell_type": "markdown",
   "metadata": {},
   "source": [
    "### 4. add col - org size categorical\n",
    "\n",
    "I used `.value_counts()` to generate a dictionary counting the number of users who belonged to each org, then binned these into XS, S, M, L and XL and each these to users in the users DataFrame:\n",
    "\n",
    "```python\n",
    "def org_size(ct):\n",
    "    rtn = 'XS'\n",
    "    if ct > 200:\n",
    "        rtn = 'XL'\n",
    "    elif ct > 149:\n",
    "        rtn = 'L'\n",
    "    elif ct > 99:\n",
    "        rtn = 'M'\n",
    "    elif ct > 49:\n",
    "        rtn = 'S'\n",
    "\n",
    "    return rtn\n",
    "\n",
    "o['org_size'] = o.user_count.apply(org_size)\n",
    "\n",
    "org_size_dict = dict(zip(o.org_id, o.org_size))\n",
    "org_size_dict[0] = np.nan\n",
    "\n",
    "users['org_size'] = users.org_id.map(org_size_dict)\n",
    "```"
   ]
  },
  {
   "cell_type": "markdown",
   "metadata": {},
   "source": [
    "### 5. add col - invited by user group size\n",
    "\n",
    "I used a strategy similar to the org size categorizing and binning described above to make each user's social network within the app into a feature binned by size."
   ]
  },
  {
   "cell_type": "markdown",
   "metadata": {},
   "source": [
    "### 6. drop unneeded cols\n",
    "I dropped unneeded columns, such as `object_id`, `name`, `email`, etc."
   ]
  },
  {
   "cell_type": "markdown",
   "metadata": {},
   "source": [
    "### 7. transform categoricals\n",
    "I used `pd.get_dummies` to one-hot encode `creation_size`, `org_size` and `group_size`.\n"
   ]
  },
  {
   "cell_type": "markdown",
   "metadata": {},
   "source": [
    "## Modeling\n",
    "\n",
    "The target set was imbalanced, with approximately 13% of all users labeled positively, as adopted users. While not massively imbalanced, I decided to use the SMOTE technique from `imblearn` to amplify the signal in the noise.  Because the goal of the project is \"to identify which factors predict future user adoption\", I chose to focus on precision scores and the models that produced the highest number of true positives.  I used sklearn's dummy classifier as a baseline, which produced the following classification report:\n",
    "\n",
    "![](images/dummy_classifier.png)"
   ]
  },
  {
   "cell_type": "markdown",
   "metadata": {},
   "source": [
    "I ran the dataset through Logistic Regression, LinearSVC, SVC and Random Forest.  The results from Random Forest were the best, so I tuned the hyperparameters and re-ran the model with tuned parameters.  The tuned model results in a slightly higher F1 score, but the precision score was a mixed bag -- the number of true positives increased from 411 to 472, but the number of false positives also increased from 59 to 129.  Below are the results of the tuned Random Forest:\n",
    "\n",
    "![](images/tuned_rf.png)\n",
    "\n"
   ]
  },
  {
   "cell_type": "markdown",
   "metadata": {},
   "source": [
    "The feature importances aren't surprising.  `mean_gap_length` indicates the mean gap between logins in days.  Since this is so closely related to the definition of an adopted user, it's not surprising that the two are highly correlated. This is still a useful bit of information.  The company could send tickler emails or find other ways to encourage users login, particularly within the days immediately following account creation.  The second most important feature, by a wide margin, is the gap in days between account creation and initial login."
   ]
  }
 ],
 "metadata": {
  "kernelspec": {
   "display_name": "Python 3",
   "language": "python",
   "name": "python3"
  },
  "language_info": {
   "codemirror_mode": {
    "name": "ipython",
    "version": 3
   },
   "file_extension": ".py",
   "mimetype": "text/x-python",
   "name": "python",
   "nbconvert_exporter": "python",
   "pygments_lexer": "ipython3",
   "version": "3.6.6"
  }
 },
 "nbformat": 4,
 "nbformat_minor": 2
}
